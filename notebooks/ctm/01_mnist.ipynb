version https://git-lfs.github.com/spec/v1
oid sha256:b0ae4e555597ead5f9ca519b3e0703f384df4d3fb6f50c659fc6f75163910c70
size 212691
