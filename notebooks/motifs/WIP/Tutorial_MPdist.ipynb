version https://git-lfs.github.com/spec/v1
oid sha256:41012b2f68135cbc1aada5b67dffa0183a2f1b5f6d22af84ad6a612712a354b1
size 565576
