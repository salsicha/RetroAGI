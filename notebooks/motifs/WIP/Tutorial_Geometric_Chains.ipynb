version https://git-lfs.github.com/spec/v1
oid sha256:f3ee8e17d3b5ca07b4b8d51b224faea9afee3d4c9aaaf2e29d6355de9b8a7c1e
size 1085093
