version https://git-lfs.github.com/spec/v1
oid sha256:8aa7c4470051022cf59a3e8342342165805ca8377ce68eb31d952a41f942abcd
size 2662961
