version https://git-lfs.github.com/spec/v1
oid sha256:bffa8cda4a91bff828d0d9471d8f7867b757cb877b8a0e9f61ddeb9643ecb78c
size 524417
