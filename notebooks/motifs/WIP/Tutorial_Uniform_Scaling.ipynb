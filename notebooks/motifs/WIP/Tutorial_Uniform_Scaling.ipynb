version https://git-lfs.github.com/spec/v1
oid sha256:3b4a1b6b53559df83e9d6b9d81c257137450531750e0b8ae150afa3f4dcd87cf
size 1080771
