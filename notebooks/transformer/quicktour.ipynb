version https://git-lfs.github.com/spec/v1
oid sha256:59dd3b4c70085a09ea4034681f03831b92d61b3ea39e9796b6cba507e9e2b017
size 42872
